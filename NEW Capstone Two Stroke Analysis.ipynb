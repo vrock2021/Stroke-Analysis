{
 "cells": [
  {
   "cell_type": "markdown",
   "metadata": {},
   "source": [
    "# Libraries Required"
   ]
  },
  {
   "cell_type": "code",
   "execution_count": 1,
   "metadata": {},
   "outputs": [],
   "source": [
    "import matplotlib as mpl\n",
    "import matplotlib.pyplot as plt \n",
    "%matplotlib inline\n",
    "import seaborn as sns\n",
    "import pandas as pd\n",
    "import statsmodels.api as sm\n",
    "sns.set_style(\"darkgrid\")\n",
    "mpl.rcParams['figure.figsize'] = (20,5)"
   ]
  },
  {
   "cell_type": "markdown",
   "metadata": {},
   "source": [
    "# Import the Data"
   ]
  },
  {
   "cell_type": "code",
   "execution_count": 2,
   "metadata": {},
   "outputs": [
    {
     "name": "stdout",
     "output_type": "stream",
     "text": [
      "                 id          age  hypertension  heart_disease  \\\n",
      "count   5110.000000  5110.000000   5110.000000    5110.000000   \n",
      "mean   36517.829354    43.226614      0.097456       0.054012   \n",
      "std    21161.721625    22.612647      0.296607       0.226063   \n",
      "min       67.000000     0.080000      0.000000       0.000000   \n",
      "25%    17741.250000    25.000000      0.000000       0.000000   \n",
      "50%    36932.000000    45.000000      0.000000       0.000000   \n",
      "75%    54682.000000    61.000000      0.000000       0.000000   \n",
      "max    72940.000000    82.000000      1.000000       1.000000   \n",
      "\n",
      "       avg_glucose_level          bmi       stroke  \n",
      "count        5110.000000  4909.000000  5110.000000  \n",
      "mean          106.147677    28.893237     0.048728  \n",
      "std            45.283560     7.854067     0.215320  \n",
      "min            55.120000    10.300000     0.000000  \n",
      "25%            77.245000    23.500000     0.000000  \n",
      "50%            91.885000    28.100000     0.000000  \n",
      "75%           114.090000    33.100000     0.000000  \n",
      "max           271.740000    97.600000     1.000000  \n",
      "<class 'pandas.core.frame.DataFrame'>\n",
      "RangeIndex: 5110 entries, 0 to 5109\n",
      "Data columns (total 12 columns):\n",
      " #   Column             Non-Null Count  Dtype  \n",
      "---  ------             --------------  -----  \n",
      " 0   id                 5110 non-null   int64  \n",
      " 1   gender             5110 non-null   object \n",
      " 2   age                5110 non-null   float64\n",
      " 3   hypertension       5110 non-null   int64  \n",
      " 4   heart_disease      5110 non-null   int64  \n",
      " 5   ever_married       5110 non-null   object \n",
      " 6   work_type          5110 non-null   object \n",
      " 7   Residence_type     5110 non-null   object \n",
      " 8   avg_glucose_level  5110 non-null   float64\n",
      " 9   bmi                4909 non-null   float64\n",
      " 10  smoking_status     5110 non-null   object \n",
      " 11  stroke             5110 non-null   int64  \n",
      "dtypes: float64(3), int64(4), object(5)\n",
      "memory usage: 479.2+ KB\n",
      "None\n"
     ]
    }
   ],
   "source": [
    "import pandas as pd\n",
    "DF_Raw = pd.read_csv('Stroke_Dataset.csv' )\n",
    "\n",
    "print(DF_Raw.describe())\n",
    "print(DF_Raw.info())"
   ]
  },
  {
   "cell_type": "markdown",
   "metadata": {},
   "source": [
    "# Data Cleansing"
   ]
  },
  {
   "cell_type": "code",
   "execution_count": 3,
   "metadata": {},
   "outputs": [
    {
     "data": {
      "text/plain": [
       "0        9046\n",
       "1       51676\n",
       "2       31112\n",
       "3       60182\n",
       "4        1665\n",
       "        ...  \n",
       "5105    18234\n",
       "5106    44873\n",
       "5107    19723\n",
       "5108    37544\n",
       "5109    44679\n",
       "Name: id, Length: 5110, dtype: int64"
      ]
     },
     "execution_count": 3,
     "metadata": {},
     "output_type": "execute_result"
    }
   ],
   "source": [
    "# Lets remove \"ID\" column, it is unnecessary\n",
    "DF_Raw.pop(\"id\")"
   ]
  },
  {
   "cell_type": "code",
   "execution_count": 4,
   "metadata": {},
   "outputs": [
    {
     "data": {
      "text/plain": [
       "age                   43.226614\n",
       "hypertension           0.097456\n",
       "heart_disease          0.054012\n",
       "avg_glucose_level    106.147677\n",
       "bmi                   28.893237\n",
       "stroke                 0.048728\n",
       "dtype: float64"
      ]
     },
     "execution_count": 4,
     "metadata": {},
     "output_type": "execute_result"
    }
   ],
   "source": [
    "# # Lets get the average value for each of the columns, specifically \"bmi\"\n",
    "DF_Raw.mean(axis=0)"
   ]
  },
  {
   "cell_type": "code",
   "execution_count": 5,
   "metadata": {},
   "outputs": [
    {
     "name": "stdout",
     "output_type": "stream",
     "text": [
      "      gender   age  hypertension  heart_disease ever_married      work_type  \\\n",
      "0       Male  67.0             0              1          Yes        Private   \n",
      "1     Female  61.0             0              0          Yes  Self-employed   \n",
      "2       Male  80.0             0              1          Yes        Private   \n",
      "3     Female  49.0             0              0          Yes        Private   \n",
      "4     Female  79.0             1              0          Yes  Self-employed   \n",
      "...      ...   ...           ...            ...          ...            ...   \n",
      "5105  Female  80.0             1              0          Yes        Private   \n",
      "5106  Female  81.0             0              0          Yes  Self-employed   \n",
      "5107  Female  35.0             0              0          Yes  Self-employed   \n",
      "5108    Male  51.0             0              0          Yes        Private   \n",
      "5109  Female  44.0             0              0          Yes       Govt_job   \n",
      "\n",
      "     Residence_type  avg_glucose_level    bmi   smoking_status  stroke  \n",
      "0             Urban             228.69  36.60  formerly smoked       1  \n",
      "1             Rural             202.21  28.89     never smoked       1  \n",
      "2             Rural             105.92  32.50     never smoked       1  \n",
      "3             Urban             171.23  34.40           smokes       1  \n",
      "4             Rural             174.12  24.00     never smoked       1  \n",
      "...             ...                ...    ...              ...     ...  \n",
      "5105          Urban              83.75  28.89     never smoked       0  \n",
      "5106          Urban             125.20  40.00     never smoked       0  \n",
      "5107          Rural              82.99  30.60     never smoked       0  \n",
      "5108          Rural             166.29  25.60  formerly smoked       0  \n",
      "5109          Urban              85.28  26.20          Unknown       0  \n",
      "\n",
      "[5110 rows x 11 columns]\n"
     ]
    }
   ],
   "source": [
    "# Lets replace the null values in bmi with the average of the column, 28.89\n",
    "DF_Raw['bmi'] = DF_Raw['bmi'].fillna(28.89)\n",
    "print(DF_Raw)"
   ]
  },
  {
   "cell_type": "markdown",
   "metadata": {},
   "source": [
    "# Insights"
   ]
  },
  {
   "cell_type": "code",
   "execution_count": 6,
   "metadata": {},
   "outputs": [
    {
     "data": {
      "image/png": "[encoded data removed]",
      "text/plain": [
       "<Figure size 1440x360 with 1 Axes>"
      ]
     },
     "metadata": {},
     "output_type": "display_data"
    },
    {
     "data": {
      "text/plain": [
       "<Figure size 1440x360 with 0 Axes>"
      ]
     },
     "metadata": {},
     "output_type": "display_data"
    }
   ],
   "source": [
    "# Lets see a breakdown of stroke sufferers and people who have not had a stroke\n",
    "sns.countplot(x='stroke', data=DF_Raw, palette='hls')\n",
    "plt.title(\"Count of People Who Had a Stroke/Did Not Have a Stroke\")\n",
    "plt.show()\n",
    "plt.savefig('new_count_plot')"
   ]
  },
  {
   "cell_type": "code",
   "execution_count": 7,
   "metadata": {},
   "outputs": [
    {
     "name": "stdout",
     "output_type": "stream",
     "text": [
      "percentage of no stroke is 95.12720156555773\n",
      "percentage of had a stroke is 4.87279843444227\n"
     ]
    }
   ],
   "source": [
    "# What % of people had a stroke and what % of people did not have a stroke?\n",
    "count_no_stroke = len(DF_Raw[DF_Raw['stroke']==0])\n",
    "count_stroke = len(DF_Raw[DF_Raw['stroke']==1])\n",
    "pct_of_no_stroke = count_no_stroke/(count_no_stroke+count_stroke)\n",
    "print(\"percentage of no stroke is\", pct_of_no_stroke*100)\n",
    "pct_of_stroke = count_stroke/(count_no_stroke+count_stroke)\n",
    "print(\"percentage of had a stroke is\", pct_of_stroke*100)"
   ]
  },
  {
   "cell_type": "markdown",
   "metadata": {},
   "source": [
    "Our classes are imbalanced, and the ratio of no-stroke to stroke instances is 95:5."
   ]
  },
  {
   "cell_type": "code",
   "execution_count": 8,
   "metadata": {},
   "outputs": [
    {
     "data": {
      "text/plain": [
       "Female    2994\n",
       "Male      2115\n",
       "Name: gender, dtype: int64"
      ]
     },
     "execution_count": 8,
     "metadata": {},
     "output_type": "execute_result"
    }
   ],
   "source": [
    "# Get names of indexes for which column Gender has value Other\n",
    "indexNames = DF_Raw[ DF_Raw['gender'] == 'Other' ].index\n",
    "# Delete these row indexes from dataFrame\n",
    "DF_Raw.drop(indexNames , inplace=True)\n",
    "\n",
    "DF_Raw['gender'].value_counts()\n",
    "#The one row with \"other\" as gender is removed."
   ]
  },
  {
   "cell_type": "markdown",
   "metadata": {},
   "source": [
    "Females represent 58.6% and Males represent 42.4% of our dataset."
   ]
  },
  {
   "cell_type": "code",
   "execution_count": 9,
   "metadata": {},
   "outputs": [
    {
     "name": "stdout",
     "output_type": "stream",
     "text": [
      "Mean values of age, avg_glucose_level and bmi grouped by stroke\n",
      "---------------------------------------------------------------\n",
      "              age avg_glucose_level        bmi\n",
      "             mean              mean       mean\n",
      "stroke                                        \n",
      "0       41.974831        104.787584  28.826603\n",
      "1       67.728193        132.544739  30.217269\n"
     ]
    }
   ],
   "source": [
    "# Lets see the averages of \"age\", \"avg_glucose_level\", and \"bmi\" grouped by \"had a stroke\", \"did not have a stroke\"\n",
    "result = DF_Raw.groupby('stroke').agg({'age' : ['mean'],'avg_glucose_level' : ['mean'], 'bmi': ['mean'], })\n",
    "  \n",
    "print(\"Mean values of age, avg_glucose_level and bmi grouped by stroke\")\n",
    "print(\"---------------------------------------------------------------\")\n",
    "print(result)"
   ]
  },
  {
   "cell_type": "markdown",
   "metadata": {},
   "source": [
    "Observations: 1) Stroke Sufferers on average are much older (67.7 yrs old) 2) Stroke Sufferers on average has a glucose level 30% higher (132.54) than people who have not had a stroke. 3) The BMI values for both sides was pretty close whether you had a stroke or you did not have a stroke."
   ]
  },
  {
   "cell_type": "code",
   "execution_count": 10,
   "metadata": {},
   "outputs": [
    {
     "data": {
      "image/png": "[encoded data removed]",
      "text/plain": [
       "<Figure size 432x288 with 1 Axes>"
      ]
     },
     "metadata": {
      "needs_background": "light"
     },
     "output_type": "display_data"
    }
   ],
   "source": [
    "%matplotlib inline\n",
    "pd.crosstab(DF_Raw.smoking_status,DF_Raw.stroke).plot(kind='bar')\n",
    "plt.title('Stroke Frequency by Smoking Status')\n",
    "plt.xlabel('Smoking Status')\n",
    "plt.ylabel('Frequency')\n",
    "plt.savefig('New stroke_smoking')"
   ]
  },
  {
   "cell_type": "markdown",
   "metadata": {},
   "source": [
    "Observations: 1) of the Non Stroke people, \"Never Smoked\" had the highest counts.  2) of the Stroke people, \"Never Smoked\" was also the highest count.  This seems odd given that one might expect a smoker to be much more to have a stroke than a non smoker."
   ]
  },
  {
   "cell_type": "code",
   "execution_count": 11,
   "metadata": {},
   "outputs": [
    {
     "data": {
      "image/png": "[encoded data removed]",
      "text/plain": [
       "<Figure size 1440x360 with 1 Axes>"
      ]
     },
     "metadata": {
      "needs_background": "light"
     },
     "output_type": "display_data"
    }
   ],
   "source": [
    "DF_Raw[['age', 'avg_glucose_level', 'bmi']].plot(kind='box', figsize=(20,5))\n",
    "plt.title(\"Raw Data Box Plot\")\n",
    "plt.savefig('NEW raw data box plot')\n",
    "plt.show()"
   ]
  },
  {
   "cell_type": "markdown",
   "metadata": {},
   "source": [
    "Observations: 1) Avg_Glucose_Level had several outliers above the upper whisker. 2) BMI also had outliers above the upper whisker, but less than the # that Avg_Glucose_Level had."
   ]
  },
  {
   "cell_type": "code",
   "execution_count": 12,
   "metadata": {},
   "outputs": [
    {
     "name": "stdout",
     "output_type": "stream",
     "text": [
      "age                  36.00\n",
      "hypertension          0.00\n",
      "heart_disease         0.00\n",
      "avg_glucose_level    36.85\n",
      "bmi                   9.00\n",
      "stroke                0.00\n",
      "dtype: float64\n"
     ]
    }
   ],
   "source": [
    "Q1 = DF_Raw.quantile(.25)\n",
    "Q3 = DF_Raw.quantile(.75)\n",
    "IQR = Q3 - Q1\n",
    "print(IQR)"
   ]
  },
  {
   "cell_type": "code",
   "execution_count": 13,
   "metadata": {},
   "outputs": [
    {
     "name": "stdout",
     "output_type": "stream",
     "text": [
      "      gender   age  hypertension  heart_disease ever_married      work_type  \\\n",
      "0       Male  67.0             0              1          Yes        Private   \n",
      "1     Female  61.0             0              0          Yes  Self-employed   \n",
      "2       Male  80.0             0              1          Yes        Private   \n",
      "3     Female  49.0             0              0          Yes        Private   \n",
      "4     Female  79.0             1              0          Yes  Self-employed   \n",
      "...      ...   ...           ...            ...          ...            ...   \n",
      "5091    Male  59.0             1              0          Yes        Private   \n",
      "5093  Female  45.0             1              0          Yes       Govt_job   \n",
      "5100    Male  82.0             1              0          Yes  Self-employed   \n",
      "5103  Female  18.0             0              0           No        Private   \n",
      "5105  Female  80.0             1              0          Yes        Private   \n",
      "\n",
      "     Residence_type  avg_glucose_level    bmi   smoking_status  stroke  \n",
      "0             Urban             228.69  36.60  formerly smoked       1  \n",
      "1             Rural             202.21  28.89     never smoked       1  \n",
      "2             Rural             105.92  32.50     never smoked       1  \n",
      "3             Urban             171.23  34.40           smokes       1  \n",
      "4             Rural             174.12  24.00     never smoked       1  \n",
      "...             ...                ...    ...              ...     ...  \n",
      "5091          Rural              95.05  30.90     never smoked       0  \n",
      "5093          Rural              95.02  28.89           smokes       0  \n",
      "5100          Rural              71.97  28.30     never smoked       0  \n",
      "5103          Urban              82.85  46.90          Unknown       0  \n",
      "5105          Urban              83.75  28.89     never smoked       0  \n",
      "\n",
      "[1296 rows x 11 columns]\n",
      "gender               1296\n",
      "age                  1296\n",
      "hypertension         1296\n",
      "heart_disease        1296\n",
      "ever_married         1296\n",
      "work_type            1296\n",
      "Residence_type       1296\n",
      "avg_glucose_level    1296\n",
      "bmi                  1296\n",
      "smoking_status       1296\n",
      "stroke               1296\n",
      "dtype: int64\n",
      "gender               0.25367\n",
      "age                  0.25367\n",
      "hypertension         0.25367\n",
      "heart_disease        0.25367\n",
      "ever_married         0.25367\n",
      "work_type            0.25367\n",
      "Residence_type       0.25367\n",
      "avg_glucose_level    0.25367\n",
      "bmi                  0.25367\n",
      "smoking_status       0.25367\n",
      "stroke               0.25367\n",
      "dtype: float64\n"
     ]
    }
   ],
   "source": [
    "Lower_Limit = Q1 - 1.5*IQR\n",
    "Upper_Limit = Q3 + 1.5*IQR\n",
    "Outliers = DF_Raw[((DF_Raw < Lower_Limit) | ((DF_Raw > Upper_Limit))).any(axis=1)]\n",
    "print(Outliers)\n",
    "print(Outliers.count())\n",
    "percent_of_outliers = Outliers.count()/DF_Raw.count()\n",
    "print(percent_of_outliers)"
   ]
  },
  {
   "cell_type": "code",
   "execution_count": 14,
   "metadata": {},
   "outputs": [
    {
     "data": {
      "image/png": "[encoded data removed]",
      "text/plain": [
       "<Figure size 1440x360 with 1 Axes>"
      ]
     },
     "metadata": {
      "needs_background": "light"
     },
     "output_type": "display_data"
    },
    {
     "data": {
      "image/png": "[encoded data removed]",
      "text/plain": [
       "<Figure size 1440x360 with 1 Axes>"
      ]
     },
     "metadata": {
      "needs_background": "light"
     },
     "output_type": "display_data"
    }
   ],
   "source": [
    "Outliers_Removed = DF_Raw[~((DF_Raw < Lower_Limit) | ((DF_Raw > Upper_Limit))).any(axis=1)]\n",
    "\n",
    "condition_1 = Outliers_Removed['stroke']==1\n",
    "Outliers_Removed[condition_1].plot(kind='box', figsize=(20,5))\n",
    "plt.title(\"Had a Stroke\")\n",
    "plt.show()\n",
    "\n",
    "condition_0 = Outliers_Removed['stroke']==0\n",
    "Outliers_Removed[condition_0].plot(kind='box',figsize=(20,5) )\n",
    "plt.title(\"Never had a Stroke\")\n",
    "plt.savefig('NEW outliers removed')\n",
    "plt.show()"
   ]
  },
  {
   "cell_type": "code",
   "execution_count": 15,
   "metadata": {},
   "outputs": [
    {
     "data": {
      "image/png": "[encoded data removed]",
      "text/plain": [
       "<Figure size 1800x360 with 2 Axes>"
      ]
     },
     "metadata": {
      "needs_background": "light"
     },
     "output_type": "display_data"
    }
   ],
   "source": [
    "corrrelation    = DF_Raw.corr(method=\"pearson\")\n",
    "\n",
    "plt.subplots(figsize=(25,5))\n",
    "sns.heatmap(corrrelation, annot=True)\n",
    "plt.savefig('NEW correlation heat map')\n",
    "plt.show()"
   ]
  },
  {
   "cell_type": "markdown",
   "metadata": {},
   "source": [
    "Observations: 1) We really do not see nay strong positive correlations.  The highest correlation occurs between bmi/age at .33.  2) The highest correlation for having a stroke is with age (.25) which would make sense.  Clearly, the older you get, one would probable guess that your likelihood of having a stroke would increase."
   ]
  },
  {
   "cell_type": "code",
   "execution_count": 16,
   "metadata": {},
   "outputs": [
    {
     "data": {
      "text/html": [
       "<div>\n",
       "<style scoped>\n",
       "    .dataframe tbody tr th:only-of-type {\n",
       "        vertical-align: middle;\n",
       "    }\n",
       "\n",
       "    .dataframe tbody tr th {\n",
       "        vertical-align: top;\n",
       "    }\n",
       "\n",
       "    .dataframe thead th {\n",
       "        text-align: right;\n",
       "    }\n",
       "</style>\n",
       "<table border=\"1\" class=\"dataframe\">\n",
       "  <thead>\n",
       "    <tr style=\"text-align: right;\">\n",
       "      <th></th>\n",
       "      <th>age</th>\n",
       "      <th>hypertension</th>\n",
       "      <th>heart_disease</th>\n",
       "      <th>avg_glucose_level</th>\n",
       "      <th>bmi</th>\n",
       "      <th>stroke</th>\n",
       "    </tr>\n",
       "  </thead>\n",
       "  <tbody>\n",
       "    <tr>\n",
       "      <th>age</th>\n",
       "      <td>1.000000</td>\n",
       "      <td>0.276367</td>\n",
       "      <td>0.263777</td>\n",
       "      <td>0.238323</td>\n",
       "      <td>0.325851</td>\n",
       "      <td>0.245239</td>\n",
       "    </tr>\n",
       "    <tr>\n",
       "      <th>hypertension</th>\n",
       "      <td>0.276367</td>\n",
       "      <td>1.000000</td>\n",
       "      <td>0.108292</td>\n",
       "      <td>0.174540</td>\n",
       "      <td>0.160140</td>\n",
       "      <td>0.127891</td>\n",
       "    </tr>\n",
       "    <tr>\n",
       "      <th>heart_disease</th>\n",
       "      <td>0.263777</td>\n",
       "      <td>0.108292</td>\n",
       "      <td>1.000000</td>\n",
       "      <td>0.161907</td>\n",
       "      <td>0.038854</td>\n",
       "      <td>0.134905</td>\n",
       "    </tr>\n",
       "    <tr>\n",
       "      <th>avg_glucose_level</th>\n",
       "      <td>0.238323</td>\n",
       "      <td>0.174540</td>\n",
       "      <td>0.161907</td>\n",
       "      <td>1.000000</td>\n",
       "      <td>0.168902</td>\n",
       "      <td>0.131991</td>\n",
       "    </tr>\n",
       "    <tr>\n",
       "      <th>bmi</th>\n",
       "      <td>0.325851</td>\n",
       "      <td>0.160140</td>\n",
       "      <td>0.038854</td>\n",
       "      <td>0.168902</td>\n",
       "      <td>1.000000</td>\n",
       "      <td>0.038901</td>\n",
       "    </tr>\n",
       "    <tr>\n",
       "      <th>stroke</th>\n",
       "      <td>0.245239</td>\n",
       "      <td>0.127891</td>\n",
       "      <td>0.134905</td>\n",
       "      <td>0.131991</td>\n",
       "      <td>0.038901</td>\n",
       "      <td>1.000000</td>\n",
       "    </tr>\n",
       "  </tbody>\n",
       "</table>\n",
       "</div>"
      ],
      "text/plain": [
       "                        age  hypertension  heart_disease  avg_glucose_level  \\\n",
       "age                1.000000      0.276367       0.263777           0.238323   \n",
       "hypertension       0.276367      1.000000       0.108292           0.174540   \n",
       "heart_disease      0.263777      0.108292       1.000000           0.161907   \n",
       "avg_glucose_level  0.238323      0.174540       0.161907           1.000000   \n",
       "bmi                0.325851      0.160140       0.038854           0.168902   \n",
       "stroke             0.245239      0.127891       0.134905           0.131991   \n",
       "\n",
       "                        bmi    stroke  \n",
       "age                0.325851  0.245239  \n",
       "hypertension       0.160140  0.127891  \n",
       "heart_disease      0.038854  0.134905  \n",
       "avg_glucose_level  0.168902  0.131991  \n",
       "bmi                1.000000  0.038901  \n",
       "stroke             0.038901  1.000000  "
      ]
     },
     "execution_count": 16,
     "metadata": {},
     "output_type": "execute_result"
    }
   ],
   "source": [
    "DF_Raw.corr()"
   ]
  },
  {
   "cell_type": "code",
   "execution_count": 17,
   "metadata": {},
   "outputs": [
    {
     "name": "stdout",
     "output_type": "stream",
     "text": [
      "                            OLS Regression Results                            \n",
      "==============================================================================\n",
      "Dep. Variable:                 stroke   R-squared:                       0.075\n",
      "Model:                            OLS   Adj. R-squared:                  0.075\n",
      "Method:                 Least Squares   F-statistic:                     83.29\n",
      "Date:                Mon, 14 Jun 2021   Prob (F-statistic):           2.36e-84\n",
      "Time:                        14:58:37   Log-Likelihood:                 796.61\n",
      "No. Observations:                5109   AIC:                            -1581.\n",
      "Df Residuals:                    5103   BIC:                            -1542.\n",
      "Df Model:                           5                                         \n",
      "Covariance Type:            nonrobust                                         \n",
      "=====================================================================================\n",
      "                        coef    std err          t      P>|t|      [0.025      0.975]\n",
      "-------------------------------------------------------------------------------------\n",
      "const                -0.0379      0.013     -3.021      0.003      -0.063      -0.013\n",
      "age                   0.0020      0.000     13.961      0.000       0.002       0.002\n",
      "hypertension          0.0425      0.010      4.142      0.000       0.022       0.063\n",
      "heart_disease         0.0601      0.013      4.482      0.000       0.034       0.086\n",
      "avg_glucose_level     0.0003    6.7e-05      4.956      0.000       0.000       0.000\n",
      "bmi                  -0.0015      0.000     -3.778      0.000      -0.002      -0.001\n",
      "==============================================================================\n",
      "Omnibus:                     3850.814   Durbin-Watson:                   0.153\n",
      "Prob(Omnibus):                  0.000   Jarque-Bera (JB):            49152.574\n",
      "Skew:                           3.705   Prob(JB):                         0.00\n",
      "Kurtosis:                      16.266   Cond. No.                         590.\n",
      "==============================================================================\n",
      "\n",
      "Notes:\n",
      "[1] Standard Errors assume that the covariance matrix of the errors is correctly specified.\n"
     ]
    }
   ],
   "source": [
    "independent_variables = DF_Raw[['age', 'hypertension', 'heart_disease', 'avg_glucose_level',\n",
    "                              'bmi']]\n",
    "independent_variables = sm.add_constant(independent_variables)\n",
    "dependent_variable = DF_Raw[\"stroke\"]\n",
    "#print(dependent_variable)\n",
    "regression_model = sm.OLS(dependent_variable,independent_variables).fit() \n",
    "print(regression_model.summary())"
   ]
  },
  {
   "cell_type": "markdown",
   "metadata": {},
   "source": [
    "Observations: 1) This particular Ordinary Least Squares study has a very low R squared of 0.075, indicative of our independent variables not doing much to influence the dependent variable."
   ]
  },
  {
   "cell_type": "code",
   "execution_count": 18,
   "metadata": {},
   "outputs": [
    {
     "data": {
      "image/png": "[encoded data removed]",
      "text/plain": [
       "<Figure size 1440x360 with 1 Axes>"
      ]
     },
     "metadata": {
      "needs_background": "light"
     },
     "output_type": "display_data"
    }
   ],
   "source": [
    "regression_model.params.sort_values(ascending=True).plot(kind='bar', figsize=(20,5))\n",
    "plt.title(\"Regressive Coefficients for Having Had a Stroke\")\n",
    "plt.grid()\n",
    "plt.savefig('NEW OLS Regression Bar Chart')\n",
    "plt.show()"
   ]
  },
  {
   "cell_type": "code",
   "execution_count": 19,
   "metadata": {},
   "outputs": [],
   "source": [
    "#Lets create dummy variables for gender\n",
    "gender_dummies = pd.get_dummies(DF_Raw.gender, prefix='Gender').iloc[:, 1:]"
   ]
  },
  {
   "cell_type": "code",
   "execution_count": 20,
   "metadata": {},
   "outputs": [],
   "source": [
    "#Lets create dummy variables for Residence_type\n",
    "Residence_type_dummies = pd.get_dummies(DF_Raw.Residence_type, prefix='Residence').iloc[:, 1:]"
   ]
  },
  {
   "cell_type": "code",
   "execution_count": 21,
   "metadata": {},
   "outputs": [],
   "source": [
    "#Lets create dummy variables for ever_married\n",
    "ever_marrried_dummies = pd.get_dummies(DF_Raw.ever_married, prefix='Ever Married').iloc[:, 1:]"
   ]
  },
  {
   "cell_type": "code",
   "execution_count": 23,
   "metadata": {},
   "outputs": [],
   "source": [
    "#Lets create dummy variables for smoking_status\n",
    "smoking_status_dummies = pd.get_dummies(DF_Raw.smoking_status, prefix='Smoking Status').iloc[:, 1:]"
   ]
  },
  {
   "cell_type": "code",
   "execution_count": 24,
   "metadata": {},
   "outputs": [],
   "source": [
    "#Lets create dummy variables for work_type\n",
    "work_type_dummies = pd.get_dummies(DF_Raw.work_type, prefix='Work Type').iloc[:, 1:]"
   ]
  },
  {
   "cell_type": "code",
   "execution_count": 25,
   "metadata": {},
   "outputs": [],
   "source": [
    "DF_Raw_New = pd.concat([DF_Raw, gender_dummies, Residence_type_dummies, ever_marrried_dummies, smoking_status_dummies, \n",
    "                       work_type_dummies], axis=1)"
   ]
  },
  {
   "cell_type": "code",
   "execution_count": 26,
   "metadata": {},
   "outputs": [
    {
     "name": "stdout",
     "output_type": "stream",
     "text": [
      "   gender   age  hypertension  heart_disease ever_married      work_type  \\\n",
      "0    Male  67.0             0              1          Yes        Private   \n",
      "1  Female  61.0             0              0          Yes  Self-employed   \n",
      "2    Male  80.0             0              1          Yes        Private   \n",
      "3  Female  49.0             0              0          Yes        Private   \n",
      "4  Female  79.0             1              0          Yes  Self-employed   \n",
      "5    Male  81.0             0              0          Yes        Private   \n",
      "6    Male  74.0             1              1          Yes        Private   \n",
      "7  Female  69.0             0              0           No        Private   \n",
      "8  Female  59.0             0              0          Yes        Private   \n",
      "9  Female  78.0             0              0          Yes        Private   \n",
      "\n",
      "  Residence_type  avg_glucose_level    bmi   smoking_status  ...  Gender_Male  \\\n",
      "0          Urban             228.69  36.60  formerly smoked  ...            1   \n",
      "1          Rural             202.21  28.89     never smoked  ...            0   \n",
      "2          Rural             105.92  32.50     never smoked  ...            1   \n",
      "3          Urban             171.23  34.40           smokes  ...            0   \n",
      "4          Rural             174.12  24.00     never smoked  ...            0   \n",
      "5          Urban             186.21  29.00  formerly smoked  ...            1   \n",
      "6          Rural              70.09  27.40     never smoked  ...            1   \n",
      "7          Urban              94.39  22.80     never smoked  ...            0   \n",
      "8          Rural              76.15  28.89          Unknown  ...            0   \n",
      "9          Urban              58.57  24.20          Unknown  ...            0   \n",
      "\n",
      "   Residence_Urban  Ever Married_Yes  Smoking Status_formerly smoked  \\\n",
      "0                1                 1                               1   \n",
      "1                0                 1                               0   \n",
      "2                0                 1                               0   \n",
      "3                1                 1                               0   \n",
      "4                0                 1                               0   \n",
      "5                1                 1                               1   \n",
      "6                0                 1                               0   \n",
      "7                1                 0                               0   \n",
      "8                0                 1                               0   \n",
      "9                1                 1                               0   \n",
      "\n",
      "   Smoking Status_never smoked  Smoking Status_smokes  Work Type_Never_worked  \\\n",
      "0                            0                      0                       0   \n",
      "1                            1                      0                       0   \n",
      "2                            1                      0                       0   \n",
      "3                            0                      1                       0   \n",
      "4                            1                      0                       0   \n",
      "5                            0                      0                       0   \n",
      "6                            1                      0                       0   \n",
      "7                            1                      0                       0   \n",
      "8                            0                      0                       0   \n",
      "9                            0                      0                       0   \n",
      "\n",
      "   Work Type_Private  Work Type_Self-employed  Work Type_children  \n",
      "0                  1                        0                   0  \n",
      "1                  0                        1                   0  \n",
      "2                  1                        0                   0  \n",
      "3                  1                        0                   0  \n",
      "4                  0                        1                   0  \n",
      "5                  1                        0                   0  \n",
      "6                  1                        0                   0  \n",
      "7                  1                        0                   0  \n",
      "8                  1                        0                   0  \n",
      "9                  1                        0                   0  \n",
      "\n",
      "[10 rows x 21 columns]\n"
     ]
    }
   ],
   "source": [
    "print(DF_Raw_New.head(10))"
   ]
  },
  {
   "cell_type": "code",
   "execution_count": 33,
   "metadata": {},
   "outputs": [],
   "source": [
    "#DF_Raw_New.pop(\"gender\") \n",
    "#DF_Raw_New.pop(\"smoking_status\") \n",
    "#DF_Raw_New.pop(\"ever_married\") \n",
    "#DF_Raw_New.pop(\"Residence_type\") \n",
    "#DF_Raw_New.pop(\"work_type\")\n"
   ]
  },
  {
   "cell_type": "code",
   "execution_count": 34,
   "metadata": {},
   "outputs": [
    {
     "data": {
      "text/plain": [
       "Index(['age', 'hypertension', 'heart_disease', 'avg_glucose_level', 'bmi',\n",
       "       'stroke', 'Gender_Male', 'Residence_Urban', 'Ever Married_Yes',\n",
       "       'Smoking Status_formerly smoked', 'Smoking Status_never smoked',\n",
       "       'Smoking Status_smokes', 'Work Type_Never_worked', 'Work Type_Private',\n",
       "       'Work Type_Self-employed', 'Work Type_children'],\n",
       "      dtype='object')"
      ]
     },
     "execution_count": 34,
     "metadata": {},
     "output_type": "execute_result"
    }
   ],
   "source": [
    "DF_Raw_New.columns   "
   ]
  },
  {
   "cell_type": "code",
   "execution_count": 35,
   "metadata": {},
   "outputs": [
    {
     "data": {
      "text/html": [
       "<div>\n",
       "<style scoped>\n",
       "    .dataframe tbody tr th:only-of-type {\n",
       "        vertical-align: middle;\n",
       "    }\n",
       "\n",
       "    .dataframe tbody tr th {\n",
       "        vertical-align: top;\n",
       "    }\n",
       "\n",
       "    .dataframe thead th {\n",
       "        text-align: right;\n",
       "    }\n",
       "</style>\n",
       "<table border=\"1\" class=\"dataframe\">\n",
       "  <thead>\n",
       "    <tr style=\"text-align: right;\">\n",
       "      <th></th>\n",
       "      <th>age</th>\n",
       "      <th>hypertension</th>\n",
       "      <th>heart_disease</th>\n",
       "      <th>avg_glucose_level</th>\n",
       "      <th>bmi</th>\n",
       "      <th>stroke</th>\n",
       "      <th>Gender_Male</th>\n",
       "      <th>Residence_Urban</th>\n",
       "      <th>Ever Married_Yes</th>\n",
       "      <th>Smoking Status_formerly smoked</th>\n",
       "      <th>Smoking Status_never smoked</th>\n",
       "      <th>Smoking Status_smokes</th>\n",
       "      <th>Work Type_Never_worked</th>\n",
       "      <th>Work Type_Private</th>\n",
       "      <th>Work Type_Self-employed</th>\n",
       "      <th>Work Type_children</th>\n",
       "    </tr>\n",
       "  </thead>\n",
       "  <tbody>\n",
       "    <tr>\n",
       "      <th>0</th>\n",
       "      <td>67.0</td>\n",
       "      <td>0</td>\n",
       "      <td>1</td>\n",
       "      <td>228.69</td>\n",
       "      <td>36.60</td>\n",
       "      <td>1</td>\n",
       "      <td>1</td>\n",
       "      <td>1</td>\n",
       "      <td>1</td>\n",
       "      <td>1</td>\n",
       "      <td>0</td>\n",
       "      <td>0</td>\n",
       "      <td>0</td>\n",
       "      <td>1</td>\n",
       "      <td>0</td>\n",
       "      <td>0</td>\n",
       "    </tr>\n",
       "    <tr>\n",
       "      <th>1</th>\n",
       "      <td>61.0</td>\n",
       "      <td>0</td>\n",
       "      <td>0</td>\n",
       "      <td>202.21</td>\n",
       "      <td>28.89</td>\n",
       "      <td>1</td>\n",
       "      <td>0</td>\n",
       "      <td>0</td>\n",
       "      <td>1</td>\n",
       "      <td>0</td>\n",
       "      <td>1</td>\n",
       "      <td>0</td>\n",
       "      <td>0</td>\n",
       "      <td>0</td>\n",
       "      <td>1</td>\n",
       "      <td>0</td>\n",
       "    </tr>\n",
       "    <tr>\n",
       "      <th>2</th>\n",
       "      <td>80.0</td>\n",
       "      <td>0</td>\n",
       "      <td>1</td>\n",
       "      <td>105.92</td>\n",
       "      <td>32.50</td>\n",
       "      <td>1</td>\n",
       "      <td>1</td>\n",
       "      <td>0</td>\n",
       "      <td>1</td>\n",
       "      <td>0</td>\n",
       "      <td>1</td>\n",
       "      <td>0</td>\n",
       "      <td>0</td>\n",
       "      <td>1</td>\n",
       "      <td>0</td>\n",
       "      <td>0</td>\n",
       "    </tr>\n",
       "    <tr>\n",
       "      <th>3</th>\n",
       "      <td>49.0</td>\n",
       "      <td>0</td>\n",
       "      <td>0</td>\n",
       "      <td>171.23</td>\n",
       "      <td>34.40</td>\n",
       "      <td>1</td>\n",
       "      <td>0</td>\n",
       "      <td>1</td>\n",
       "      <td>1</td>\n",
       "      <td>0</td>\n",
       "      <td>0</td>\n",
       "      <td>1</td>\n",
       "      <td>0</td>\n",
       "      <td>1</td>\n",
       "      <td>0</td>\n",
       "      <td>0</td>\n",
       "    </tr>\n",
       "    <tr>\n",
       "      <th>4</th>\n",
       "      <td>79.0</td>\n",
       "      <td>1</td>\n",
       "      <td>0</td>\n",
       "      <td>174.12</td>\n",
       "      <td>24.00</td>\n",
       "      <td>1</td>\n",
       "      <td>0</td>\n",
       "      <td>0</td>\n",
       "      <td>1</td>\n",
       "      <td>0</td>\n",
       "      <td>1</td>\n",
       "      <td>0</td>\n",
       "      <td>0</td>\n",
       "      <td>0</td>\n",
       "      <td>1</td>\n",
       "      <td>0</td>\n",
       "    </tr>\n",
       "    <tr>\n",
       "      <th>5</th>\n",
       "      <td>81.0</td>\n",
       "      <td>0</td>\n",
       "      <td>0</td>\n",
       "      <td>186.21</td>\n",
       "      <td>29.00</td>\n",
       "      <td>1</td>\n",
       "      <td>1</td>\n",
       "      <td>1</td>\n",
       "      <td>1</td>\n",
       "      <td>1</td>\n",
       "      <td>0</td>\n",
       "      <td>0</td>\n",
       "      <td>0</td>\n",
       "      <td>1</td>\n",
       "      <td>0</td>\n",
       "      <td>0</td>\n",
       "    </tr>\n",
       "    <tr>\n",
       "      <th>6</th>\n",
       "      <td>74.0</td>\n",
       "      <td>1</td>\n",
       "      <td>1</td>\n",
       "      <td>70.09</td>\n",
       "      <td>27.40</td>\n",
       "      <td>1</td>\n",
       "      <td>1</td>\n",
       "      <td>0</td>\n",
       "      <td>1</td>\n",
       "      <td>0</td>\n",
       "      <td>1</td>\n",
       "      <td>0</td>\n",
       "      <td>0</td>\n",
       "      <td>1</td>\n",
       "      <td>0</td>\n",
       "      <td>0</td>\n",
       "    </tr>\n",
       "    <tr>\n",
       "      <th>7</th>\n",
       "      <td>69.0</td>\n",
       "      <td>0</td>\n",
       "      <td>0</td>\n",
       "      <td>94.39</td>\n",
       "      <td>22.80</td>\n",
       "      <td>1</td>\n",
       "      <td>0</td>\n",
       "      <td>1</td>\n",
       "      <td>0</td>\n",
       "      <td>0</td>\n",
       "      <td>1</td>\n",
       "      <td>0</td>\n",
       "      <td>0</td>\n",
       "      <td>1</td>\n",
       "      <td>0</td>\n",
       "      <td>0</td>\n",
       "    </tr>\n",
       "    <tr>\n",
       "      <th>8</th>\n",
       "      <td>59.0</td>\n",
       "      <td>0</td>\n",
       "      <td>0</td>\n",
       "      <td>76.15</td>\n",
       "      <td>28.89</td>\n",
       "      <td>1</td>\n",
       "      <td>0</td>\n",
       "      <td>0</td>\n",
       "      <td>1</td>\n",
       "      <td>0</td>\n",
       "      <td>0</td>\n",
       "      <td>0</td>\n",
       "      <td>0</td>\n",
       "      <td>1</td>\n",
       "      <td>0</td>\n",
       "      <td>0</td>\n",
       "    </tr>\n",
       "    <tr>\n",
       "      <th>9</th>\n",
       "      <td>78.0</td>\n",
       "      <td>0</td>\n",
       "      <td>0</td>\n",
       "      <td>58.57</td>\n",
       "      <td>24.20</td>\n",
       "      <td>1</td>\n",
       "      <td>0</td>\n",
       "      <td>1</td>\n",
       "      <td>1</td>\n",
       "      <td>0</td>\n",
       "      <td>0</td>\n",
       "      <td>0</td>\n",
       "      <td>0</td>\n",
       "      <td>1</td>\n",
       "      <td>0</td>\n",
       "      <td>0</td>\n",
       "    </tr>\n",
       "    <tr>\n",
       "      <th>10</th>\n",
       "      <td>81.0</td>\n",
       "      <td>1</td>\n",
       "      <td>0</td>\n",
       "      <td>80.43</td>\n",
       "      <td>29.70</td>\n",
       "      <td>1</td>\n",
       "      <td>0</td>\n",
       "      <td>0</td>\n",
       "      <td>1</td>\n",
       "      <td>0</td>\n",
       "      <td>1</td>\n",
       "      <td>0</td>\n",
       "      <td>0</td>\n",
       "      <td>1</td>\n",
       "      <td>0</td>\n",
       "      <td>0</td>\n",
       "    </tr>\n",
       "    <tr>\n",
       "      <th>11</th>\n",
       "      <td>61.0</td>\n",
       "      <td>0</td>\n",
       "      <td>1</td>\n",
       "      <td>120.46</td>\n",
       "      <td>36.80</td>\n",
       "      <td>1</td>\n",
       "      <td>0</td>\n",
       "      <td>0</td>\n",
       "      <td>1</td>\n",
       "      <td>0</td>\n",
       "      <td>0</td>\n",
       "      <td>1</td>\n",
       "      <td>0</td>\n",
       "      <td>0</td>\n",
       "      <td>0</td>\n",
       "      <td>0</td>\n",
       "    </tr>\n",
       "    <tr>\n",
       "      <th>12</th>\n",
       "      <td>54.0</td>\n",
       "      <td>0</td>\n",
       "      <td>0</td>\n",
       "      <td>104.51</td>\n",
       "      <td>27.30</td>\n",
       "      <td>1</td>\n",
       "      <td>0</td>\n",
       "      <td>1</td>\n",
       "      <td>1</td>\n",
       "      <td>0</td>\n",
       "      <td>0</td>\n",
       "      <td>1</td>\n",
       "      <td>0</td>\n",
       "      <td>1</td>\n",
       "      <td>0</td>\n",
       "      <td>0</td>\n",
       "    </tr>\n",
       "    <tr>\n",
       "      <th>13</th>\n",
       "      <td>78.0</td>\n",
       "      <td>0</td>\n",
       "      <td>1</td>\n",
       "      <td>219.84</td>\n",
       "      <td>28.89</td>\n",
       "      <td>1</td>\n",
       "      <td>1</td>\n",
       "      <td>1</td>\n",
       "      <td>1</td>\n",
       "      <td>0</td>\n",
       "      <td>0</td>\n",
       "      <td>0</td>\n",
       "      <td>0</td>\n",
       "      <td>1</td>\n",
       "      <td>0</td>\n",
       "      <td>0</td>\n",
       "    </tr>\n",
       "    <tr>\n",
       "      <th>14</th>\n",
       "      <td>79.0</td>\n",
       "      <td>0</td>\n",
       "      <td>1</td>\n",
       "      <td>214.09</td>\n",
       "      <td>28.20</td>\n",
       "      <td>1</td>\n",
       "      <td>0</td>\n",
       "      <td>1</td>\n",
       "      <td>1</td>\n",
       "      <td>0</td>\n",
       "      <td>1</td>\n",
       "      <td>0</td>\n",
       "      <td>0</td>\n",
       "      <td>1</td>\n",
       "      <td>0</td>\n",
       "      <td>0</td>\n",
       "    </tr>\n",
       "  </tbody>\n",
       "</table>\n",
       "</div>"
      ],
      "text/plain": [
       "     age  hypertension  heart_disease  avg_glucose_level    bmi  stroke  \\\n",
       "0   67.0             0              1             228.69  36.60       1   \n",
       "1   61.0             0              0             202.21  28.89       1   \n",
       "2   80.0             0              1             105.92  32.50       1   \n",
       "3   49.0             0              0             171.23  34.40       1   \n",
       "4   79.0             1              0             174.12  24.00       1   \n",
       "5   81.0             0              0             186.21  29.00       1   \n",
       "6   74.0             1              1              70.09  27.40       1   \n",
       "7   69.0             0              0              94.39  22.80       1   \n",
       "8   59.0             0              0              76.15  28.89       1   \n",
       "9   78.0             0              0              58.57  24.20       1   \n",
       "10  81.0             1              0              80.43  29.70       1   \n",
       "11  61.0             0              1             120.46  36.80       1   \n",
       "12  54.0             0              0             104.51  27.30       1   \n",
       "13  78.0             0              1             219.84  28.89       1   \n",
       "14  79.0             0              1             214.09  28.20       1   \n",
       "\n",
       "    Gender_Male  Residence_Urban  Ever Married_Yes  \\\n",
       "0             1                1                 1   \n",
       "1             0                0                 1   \n",
       "2             1                0                 1   \n",
       "3             0                1                 1   \n",
       "4             0                0                 1   \n",
       "5             1                1                 1   \n",
       "6             1                0                 1   \n",
       "7             0                1                 0   \n",
       "8             0                0                 1   \n",
       "9             0                1                 1   \n",
       "10            0                0                 1   \n",
       "11            0                0                 1   \n",
       "12            0                1                 1   \n",
       "13            1                1                 1   \n",
       "14            0                1                 1   \n",
       "\n",
       "    Smoking Status_formerly smoked  Smoking Status_never smoked  \\\n",
       "0                                1                            0   \n",
       "1                                0                            1   \n",
       "2                                0                            1   \n",
       "3                                0                            0   \n",
       "4                                0                            1   \n",
       "5                                1                            0   \n",
       "6                                0                            1   \n",
       "7                                0                            1   \n",
       "8                                0                            0   \n",
       "9                                0                            0   \n",
       "10                               0                            1   \n",
       "11                               0                            0   \n",
       "12                               0                            0   \n",
       "13                               0                            0   \n",
       "14                               0                            1   \n",
       "\n",
       "    Smoking Status_smokes  Work Type_Never_worked  Work Type_Private  \\\n",
       "0                       0                       0                  1   \n",
       "1                       0                       0                  0   \n",
       "2                       0                       0                  1   \n",
       "3                       1                       0                  1   \n",
       "4                       0                       0                  0   \n",
       "5                       0                       0                  1   \n",
       "6                       0                       0                  1   \n",
       "7                       0                       0                  1   \n",
       "8                       0                       0                  1   \n",
       "9                       0                       0                  1   \n",
       "10                      0                       0                  1   \n",
       "11                      1                       0                  0   \n",
       "12                      1                       0                  1   \n",
       "13                      0                       0                  1   \n",
       "14                      0                       0                  1   \n",
       "\n",
       "    Work Type_Self-employed  Work Type_children  \n",
       "0                         0                   0  \n",
       "1                         1                   0  \n",
       "2                         0                   0  \n",
       "3                         0                   0  \n",
       "4                         1                   0  \n",
       "5                         0                   0  \n",
       "6                         0                   0  \n",
       "7                         0                   0  \n",
       "8                         0                   0  \n",
       "9                         0                   0  \n",
       "10                        0                   0  \n",
       "11                        0                   0  \n",
       "12                        0                   0  \n",
       "13                        0                   0  \n",
       "14                        0                   0  "
      ]
     },
     "execution_count": 35,
     "metadata": {},
     "output_type": "execute_result"
    }
   ],
   "source": [
    "DF_Raw_New.head(15)"
   ]
  },
  {
   "cell_type": "markdown",
   "metadata": {},
   "source": [
    "Because our dataset is so improperly balances 95 (no stroke) : 5 (had stroke), lets do SMOTE to get a more balanced set."
   ]
  },
  {
   "cell_type": "code",
   "execution_count": 36,
   "metadata": {},
   "outputs": [
    {
     "name": "stdout",
     "output_type": "stream",
     "text": [
      "Requirement already satisfied: imblearn in c:\\users\\rvaug\\anaconda3\\lib\\site-packages (0.0)\n",
      "Requirement already satisfied: imbalanced-learn in c:\\users\\rvaug\\anaconda3\\lib\\site-packages (from imblearn) (0.8.0)\n",
      "Requirement already satisfied: scikit-learn>=0.24 in c:\\users\\rvaug\\anaconda3\\lib\\site-packages (from imbalanced-learn->imblearn) (0.24.2)\n",
      "Requirement already satisfied: numpy>=1.13.3 in c:\\users\\rvaug\\anaconda3\\lib\\site-packages (from imbalanced-learn->imblearn) (1.19.2)\n",
      "Requirement already satisfied: scipy>=0.19.1 in c:\\users\\rvaug\\anaconda3\\lib\\site-packages (from imbalanced-learn->imblearn) (1.5.2)\n",
      "Requirement already satisfied: joblib>=0.11 in c:\\users\\rvaug\\anaconda3\\lib\\site-packages (from imbalanced-learn->imblearn) (0.17.0)\n",
      "Requirement already satisfied: threadpoolctl>=2.0.0 in c:\\users\\rvaug\\anaconda3\\lib\\site-packages (from scikit-learn>=0.24->imbalanced-learn->imblearn) (2.1.0)\n"
     ]
    }
   ],
   "source": [
    "!pip install imblearn"
   ]
  },
  {
   "cell_type": "code",
   "execution_count": 37,
   "metadata": {},
   "outputs": [],
   "source": [
    "from sklearn import preprocessing\n",
    "\n",
    "from sklearn.linear_model import LogisticRegression\n",
    "from sklearn.model_selection import train_test_split"
   ]
  },
  {
   "cell_type": "code",
   "execution_count": 45,
   "metadata": {},
   "outputs": [
    {
     "name": "stdout",
     "output_type": "stream",
     "text": [
      "length of oversampled data is  7294\n",
      "Number of no strokes in oversampled data 3647\n",
      "Number of strokes 3647\n",
      "Proportion of no strokes data in oversampled data is  0.5\n",
      "Proportion of strokes data in oversampled data is  0.5\n"
     ]
    }
   ],
   "source": [
    "X = DF_Raw_New.loc[:, DF_Raw_New.columns != 'stroke']\n",
    "y = DF_Raw_New.loc[:, DF_Raw_New.columns == 'stroke']\n",
    "\n",
    "from imblearn.over_sampling import SMOTE\n",
    "\n",
    "os = SMOTE(random_state=200)\n",
    "\n",
    "X_train, X_test, y_train, y_test = train_test_split(X, y, test_size=0.25, random_state=0)\n",
    "\n",
    "columns = X_train.columns\n",
    "\n",
    "os_data_X, os_data_y = os.fit_resample(X_train, y_train)\n",
    "\n",
    "os_data_X = pd.DataFrame(data= os_data_X, columns=columns )\n",
    "\n",
    "os_data_y= pd.DataFrame(data=os_data_y,columns=['stroke'])\n",
    "\n",
    "# we can Check the numbers of our data\n",
    "print(\"length of oversampled data is \",len(os_data_X))\n",
    "print(\"Number of no strokes in oversampled data\",len(os_data_y[os_data_y['stroke']==0]))\n",
    "print(\"Number of strokes\",len(os_data_y[os_data_y['stroke']==1]))\n",
    "print(\"Proportion of no strokes data in oversampled data is \",len(os_data_y[os_data_y['stroke']==0])/len(os_data_X))\n",
    "print(\"Proportion of strokes data in oversampled data is \",len(os_data_y[os_data_y['stroke']==1])/len(os_data_X))"
   ]
  },
  {
   "cell_type": "code",
   "execution_count": 46,
   "metadata": {},
   "outputs": [
    {
     "name": "stdout",
     "output_type": "stream",
     "text": [
      "Warning: Maximum number of iterations has been exceeded.\n",
      "         Current function value: 0.320462\n",
      "         Iterations: 35\n",
      "                                     Results: Logit\n",
      "=========================================================================================\n",
      "Model:                       Logit                    Pseudo R-squared:         0.538    \n",
      "Dependent Variable:          stroke                   AIC:                      4704.8939\n",
      "Date:                        2021-06-14 15:17         BIC:                      4808.3160\n",
      "No. Observations:            7294                     Log-Likelihood:           -2337.4  \n",
      "Df Model:                    14                       LL-Null:                  -5055.8  \n",
      "Df Residuals:                7279                     LLR p-value:              0.0000   \n",
      "Converged:                   0.0000                   Scale:                    1.0000   \n",
      "No. Iterations:              35.0000                                                     \n",
      "-----------------------------------------------------------------------------------------\n",
      "                                Coef.    Std.Err.     z     P>|z|     [0.025     0.975]  \n",
      "-----------------------------------------------------------------------------------------\n",
      "age                              0.0831     0.0025  32.7664 0.0000      0.0781     0.0880\n",
      "hypertension                    -0.6834     0.1320  -5.1768 0.0000     -0.9422    -0.4247\n",
      "heart_disease                   -0.3020     0.1469  -2.0548 0.0399     -0.5900    -0.0139\n",
      "avg_glucose_level                0.0040     0.0007   5.4481 0.0000      0.0026     0.0054\n",
      "bmi                             -0.0421     0.0046  -9.0529 0.0000     -0.0512    -0.0330\n",
      "Gender_Male                     -0.7448     0.0799  -9.3251 0.0000     -0.9014    -0.5883\n",
      "Residence_Urban                 -0.9432     0.0756 -12.4747 0.0000     -1.0914    -0.7950\n",
      "Ever Married_Yes                -0.9192     0.1024  -8.9803 0.0000     -1.1198    -0.7186\n",
      "Smoking Status_formerly smoked  -1.9498     0.1034 -18.8600 0.0000     -2.1525    -1.7472\n",
      "Smoking Status_never smoked     -2.5256     0.0936 -26.9872 0.0000     -2.7091    -2.3422\n",
      "Smoking Status_smokes           -2.5014     0.1338 -18.6897 0.0000     -2.7637    -2.2390\n",
      "Work Type_Never_worked         -22.2584 34284.3704  -0.0006 0.9995 -67218.3896 67173.8727\n",
      "Work Type_Private               -1.4983     0.0844 -17.7553 0.0000     -1.6637    -1.3330\n",
      "Work Type_Self-employed         -2.6345     0.1280 -20.5808 0.0000     -2.8854    -2.3836\n",
      "Work Type_children             -24.0649 10301.0581  -0.0023 0.9981 -20213.7678 20165.6381\n",
      "=========================================================================================\n",
      "\n"
     ]
    },
    {
     "name": "stderr",
     "output_type": "stream",
     "text": [
      "C:\\Users\\rvaug\\anaconda3\\lib\\site-packages\\statsmodels\\base\\model.py:566: ConvergenceWarning: Maximum Likelihood optimization failed to converge. Check mle_retvals\n",
      "  warnings.warn(\"Maximum Likelihood optimization failed to \"\n"
     ]
    }
   ],
   "source": [
    "X = os_data_X.loc[:, os_data_X.columns != 'stroke']\n",
    "y = os_data_y.loc[:, os_data_y.columns == 'stroke']\n",
    "import statsmodels.api as sm\n",
    "logit_model=sm.Logit(y,X)\n",
    "result=logit_model.fit()\n",
    "print(result.summary2())"
   ]
  },
  {
   "cell_type": "markdown",
   "metadata": {},
   "source": [
    "We have 2 P Values that need to be removed (one at a time).  We will then rerun our Regression."
   ]
  },
  {
   "cell_type": "code",
   "execution_count": 54,
   "metadata": {},
   "outputs": [
    {
     "data": {
      "text/plain": [
       "Index(['age', 'hypertension', 'heart_disease', 'avg_glucose_level', 'bmi',\n",
       "       'stroke', 'Gender_Male', 'Residence_Urban', 'Ever Married_Yes',\n",
       "       'Smoking Status_formerly smoked', 'Smoking Status_never smoked',\n",
       "       'Smoking Status_smokes', 'Work Type_Never_worked', 'Work Type_Private',\n",
       "       'Work Type_Self-employed', 'Work Type_children'],\n",
       "      dtype='object')"
      ]
     },
     "execution_count": 54,
     "metadata": {},
     "output_type": "execute_result"
    }
   ],
   "source": [
    "DF_Raw_New.columns"
   ]
  },
  {
   "cell_type": "code",
   "execution_count": 58,
   "metadata": {},
   "outputs": [],
   "source": [
    "DF_Raw_New = DF_Raw_New.drop(\"Work Type_Never_worked\", axis=1)"
   ]
  },
  {
   "cell_type": "code",
   "execution_count": 59,
   "metadata": {},
   "outputs": [
    {
     "data": {
      "text/plain": [
       "Index(['age', 'hypertension', 'heart_disease', 'avg_glucose_level', 'bmi',\n",
       "       'stroke', 'Gender_Male', 'Residence_Urban', 'Ever Married_Yes',\n",
       "       'Smoking Status_formerly smoked', 'Smoking Status_never smoked',\n",
       "       'Smoking Status_smokes', 'Work Type_Private', 'Work Type_Self-employed',\n",
       "       'Work Type_children'],\n",
       "      dtype='object')"
      ]
     },
     "execution_count": 59,
     "metadata": {},
     "output_type": "execute_result"
    }
   ],
   "source": [
    "DF_Raw_New.columns"
   ]
  },
  {
   "cell_type": "code",
   "execution_count": 62,
   "metadata": {},
   "outputs": [
    {
     "name": "stdout",
     "output_type": "stream",
     "text": [
      "length of oversampled data is  7294\n",
      "Number of no strokes in oversampled data 3647\n",
      "Number of strokes 3647\n",
      "Proportion of no strokes data in oversampled data is  0.5\n",
      "Proportion of strokes data in oversampled data is  0.5\n"
     ]
    }
   ],
   "source": [
    "X = DF_Raw_New.loc[:, DF_Raw_New.columns != 'stroke']\n",
    "y = DF_Raw_New.loc[:, DF_Raw_New.columns == 'stroke']\n",
    "\n",
    "from imblearn.over_sampling import SMOTE\n",
    "\n",
    "os = SMOTE(random_state=200)\n",
    "\n",
    "X_train, X_test, y_train, y_test = train_test_split(X, y, test_size=0.25, random_state=0)\n",
    "\n",
    "columns = X_train.columns\n",
    "\n",
    "os_data_X, os_data_y = os.fit_resample(X_train, y_train)\n",
    "\n",
    "os_data_X = pd.DataFrame(data= os_data_X, columns=columns )\n",
    "\n",
    "os_data_y= pd.DataFrame(data=os_data_y,columns=['stroke'])\n",
    "\n",
    "# we can Check the numbers of our data\n",
    "print(\"length of oversampled data is \",len(os_data_X))\n",
    "print(\"Number of no strokes in oversampled data\",len(os_data_y[os_data_y['stroke']==0]))\n",
    "print(\"Number of strokes\",len(os_data_y[os_data_y['stroke']==1]))\n",
    "print(\"Proportion of no strokes data in oversampled data is \",len(os_data_y[os_data_y['stroke']==0])/len(os_data_X))\n",
    "print(\"Proportion of strokes data in oversampled data is \",len(os_data_y[os_data_y['stroke']==1])/len(os_data_X))"
   ]
  },
  {
   "cell_type": "code",
   "execution_count": 63,
   "metadata": {},
   "outputs": [
    {
     "name": "stdout",
     "output_type": "stream",
     "text": [
      "Warning: Maximum number of iterations has been exceeded.\n",
      "         Current function value: 0.320889\n",
      "         Iterations: 35\n",
      "                                     Results: Logit\n",
      "=========================================================================================\n",
      "Model:                       Logit                    Pseudo R-squared:         0.537    \n",
      "Dependent Variable:          stroke                   AIC:                      4709.1290\n",
      "Date:                        2021-06-14 15:33         BIC:                      4805.6563\n",
      "No. Observations:            7294                     Log-Likelihood:           -2340.6  \n",
      "Df Model:                    13                       LL-Null:                  -5055.8  \n",
      "Df Residuals:                7280                     LLR p-value:              0.0000   \n",
      "Converged:                   0.0000                   Scale:                    1.0000   \n",
      "No. Iterations:              35.0000                                                     \n",
      "-----------------------------------------------------------------------------------------\n",
      "                                Coef.    Std.Err.     z     P>|z|     [0.025     0.975]  \n",
      "-----------------------------------------------------------------------------------------\n",
      "age                              0.0833     0.0025  32.8711 0.0000      0.0784     0.0883\n",
      "hypertension                    -0.6813     0.1321  -5.1587 0.0000     -0.9401    -0.4224\n",
      "heart_disease                   -0.3011     0.1470  -2.0486 0.0405     -0.5891    -0.0130\n",
      "avg_glucose_level                0.0040     0.0007   5.4214 0.0000      0.0025     0.0054\n",
      "bmi                             -0.0428     0.0046  -9.2298 0.0000     -0.0519    -0.0337\n",
      "Gender_Male                     -0.7526     0.0797  -9.4382 0.0000     -0.9089    -0.5963\n",
      "Residence_Urban                 -0.9479     0.0755 -12.5530 0.0000     -1.0959    -0.7999\n",
      "Ever Married_Yes                -0.9112     0.1023  -8.9095 0.0000     -1.1116    -0.7107\n",
      "Smoking Status_formerly smoked  -1.9494     0.1034 -18.8490 0.0000     -2.1521    -1.7467\n",
      "Smoking Status_never smoked     -2.5286     0.0935 -27.0420 0.0000     -2.7118    -2.3453\n",
      "Smoking Status_smokes           -2.4997     0.1339 -18.6719 0.0000     -2.7621    -2.2373\n",
      "Work Type_Private               -1.4918     0.0843 -17.6889 0.0000     -1.6571    -1.3265\n",
      "Work Type_Self-employed         -2.6321     0.1281 -20.5521 0.0000     -2.8831    -2.3811\n",
      "Work Type_children             -25.4099 20362.3689  -0.0012 0.9990 -39934.9197 39884.0998\n",
      "=========================================================================================\n",
      "\n"
     ]
    },
    {
     "name": "stderr",
     "output_type": "stream",
     "text": [
      "C:\\Users\\rvaug\\anaconda3\\lib\\site-packages\\statsmodels\\base\\model.py:566: ConvergenceWarning: Maximum Likelihood optimization failed to converge. Check mle_retvals\n",
      "  warnings.warn(\"Maximum Likelihood optimization failed to \"\n"
     ]
    }
   ],
   "source": [
    "X = os_data_X.loc[:, os_data_X.columns != 'stroke']\n",
    "y = os_data_y.loc[:, os_data_y.columns == 'stroke']\n",
    "import statsmodels.api as sm\n",
    "logit_model=sm.Logit(y,X)\n",
    "result=logit_model.fit()\n",
    "print(result.summary2())"
   ]
  },
  {
   "cell_type": "markdown",
   "metadata": {},
   "source": [
    "Our 1st bad P Value \"Work Type_Never_worked\" is removed.  Now lets get rid of \"Work Type_children\" and rerun our Regression."
   ]
  },
  {
   "cell_type": "code",
   "execution_count": 64,
   "metadata": {},
   "outputs": [],
   "source": [
    "DF_Raw_New = DF_Raw_New.drop(\"Work Type_children\", axis=1)"
   ]
  },
  {
   "cell_type": "code",
   "execution_count": 65,
   "metadata": {},
   "outputs": [
    {
     "data": {
      "text/plain": [
       "Index(['age', 'hypertension', 'heart_disease', 'avg_glucose_level', 'bmi',\n",
       "       'stroke', 'Gender_Male', 'Residence_Urban', 'Ever Married_Yes',\n",
       "       'Smoking Status_formerly smoked', 'Smoking Status_never smoked',\n",
       "       'Smoking Status_smokes', 'Work Type_Private',\n",
       "       'Work Type_Self-employed'],\n",
       "      dtype='object')"
      ]
     },
     "execution_count": 65,
     "metadata": {},
     "output_type": "execute_result"
    }
   ],
   "source": [
    "DF_Raw_New.columns"
   ]
  },
  {
   "cell_type": "code",
   "execution_count": 66,
   "metadata": {},
   "outputs": [
    {
     "name": "stdout",
     "output_type": "stream",
     "text": [
      "length of oversampled data is  7294\n",
      "Number of no strokes in oversampled data 3647\n",
      "Number of strokes 3647\n",
      "Proportion of no strokes data in oversampled data is  0.5\n",
      "Proportion of strokes data in oversampled data is  0.5\n"
     ]
    }
   ],
   "source": [
    "X = DF_Raw_New.loc[:, DF_Raw_New.columns != 'stroke']\n",
    "y = DF_Raw_New.loc[:, DF_Raw_New.columns == 'stroke']\n",
    "\n",
    "from imblearn.over_sampling import SMOTE\n",
    "\n",
    "os = SMOTE(random_state=200)\n",
    "\n",
    "X_train, X_test, y_train, y_test = train_test_split(X, y, test_size=0.25, random_state=0)\n",
    "\n",
    "columns = X_train.columns\n",
    "\n",
    "os_data_X, os_data_y = os.fit_resample(X_train, y_train)\n",
    "\n",
    "os_data_X = pd.DataFrame(data= os_data_X, columns=columns )\n",
    "\n",
    "os_data_y= pd.DataFrame(data=os_data_y,columns=['stroke'])\n",
    "\n",
    "# we can Check the numbers of our data\n",
    "print(\"length of oversampled data is \",len(os_data_X))\n",
    "print(\"Number of no strokes in oversampled data\",len(os_data_y[os_data_y['stroke']==0]))\n",
    "print(\"Number of strokes\",len(os_data_y[os_data_y['stroke']==1]))\n",
    "print(\"Proportion of no strokes data in oversampled data is \",len(os_data_y[os_data_y['stroke']==0])/len(os_data_X))\n",
    "print(\"Proportion of strokes data in oversampled data is \",len(os_data_y[os_data_y['stroke']==1])/len(os_data_X))"
   ]
  },
  {
   "cell_type": "code",
   "execution_count": 67,
   "metadata": {},
   "outputs": [
    {
     "name": "stdout",
     "output_type": "stream",
     "text": [
      "Optimization terminated successfully.\n",
      "         Current function value: 0.340588\n",
      "         Iterations 7\n",
      "                                Results: Logit\n",
      "===============================================================================\n",
      "Model:                   Logit                 Pseudo R-squared:      0.509    \n",
      "Dependent Variable:      stroke                AIC:                   4994.4925\n",
      "Date:                    2021-06-14 15:39      BIC:                   5084.1250\n",
      "No. Observations:        7294                  Log-Likelihood:        -2484.2  \n",
      "Df Model:                12                    LL-Null:               -5055.8  \n",
      "Df Residuals:            7281                  LLR p-value:           0.0000   \n",
      "Converged:               1.0000                Scale:                 1.0000   \n",
      "No. Iterations:          7.0000                                                \n",
      "-------------------------------------------------------------------------------\n",
      "                                Coef.  Std.Err.    z     P>|z|   [0.025  0.975]\n",
      "-------------------------------------------------------------------------------\n",
      "age                             0.0950   0.0025  37.3010 0.0000  0.0900  0.1000\n",
      "hypertension                   -0.6064   0.1327  -4.5711 0.0000 -0.8664 -0.3464\n",
      "heart_disease                  -0.2490   0.1462  -1.7034 0.0885 -0.5356  0.0375\n",
      "avg_glucose_level               0.0019   0.0007   2.6045 0.0092  0.0005  0.0033\n",
      "bmi                            -0.0668   0.0045 -14.8766 0.0000 -0.0755 -0.0580\n",
      "Gender_Male                    -0.9120   0.0761 -11.9788 0.0000 -1.0612 -0.7627\n",
      "Residence_Urban                -1.0344   0.0730 -14.1637 0.0000 -1.1775 -0.8913\n",
      "Ever Married_Yes               -0.6886   0.1013  -6.7950 0.0000 -0.8872 -0.4900\n",
      "Smoking Status_formerly smoked -1.9226   0.1052 -18.2774 0.0000 -2.1288 -1.7165\n",
      "Smoking Status_never smoked    -2.5096   0.0952 -26.3741 0.0000 -2.6962 -2.3231\n",
      "Smoking Status_smokes          -2.4328   0.1358 -17.9126 0.0000 -2.6990 -2.1666\n",
      "Work Type_Private              -1.3028   0.0840 -15.5043 0.0000 -1.4675 -1.1381\n",
      "Work Type_Self-employed        -2.6520   0.1310 -20.2442 0.0000 -2.9088 -2.3952\n",
      "===============================================================================\n",
      "\n"
     ]
    }
   ],
   "source": [
    "X = os_data_X.loc[:, os_data_X.columns != 'stroke']\n",
    "y = os_data_y.loc[:, os_data_y.columns == 'stroke']\n",
    "import statsmodels.api as sm\n",
    "logit_model=sm.Logit(y,X)\n",
    "result=logit_model.fit()\n",
    "print(result.summary2())"
   ]
  },
  {
   "cell_type": "markdown",
   "metadata": {},
   "source": [
    "\"Heart Disease\" still has an unacceptable P Value of .0885.  Get rid of it and redo Regression."
   ]
  },
  {
   "cell_type": "code",
   "execution_count": 68,
   "metadata": {},
   "outputs": [],
   "source": [
    "DF_Raw_New = DF_Raw_New.drop(\"heart_disease\", axis=1)"
   ]
  },
  {
   "cell_type": "code",
   "execution_count": 69,
   "metadata": {},
   "outputs": [
    {
     "data": {
      "text/plain": [
       "Index(['age', 'hypertension', 'avg_glucose_level', 'bmi', 'stroke',\n",
       "       'Gender_Male', 'Residence_Urban', 'Ever Married_Yes',\n",
       "       'Smoking Status_formerly smoked', 'Smoking Status_never smoked',\n",
       "       'Smoking Status_smokes', 'Work Type_Private',\n",
       "       'Work Type_Self-employed'],\n",
       "      dtype='object')"
      ]
     },
     "execution_count": 69,
     "metadata": {},
     "output_type": "execute_result"
    }
   ],
   "source": [
    "DF_Raw_New.columns"
   ]
  },
  {
   "cell_type": "code",
   "execution_count": 70,
   "metadata": {},
   "outputs": [
    {
     "name": "stdout",
     "output_type": "stream",
     "text": [
      "length of oversampled data is  7294\n",
      "Number of no strokes in oversampled data 3647\n",
      "Number of strokes 3647\n",
      "Proportion of no strokes data in oversampled data is  0.5\n",
      "Proportion of strokes data in oversampled data is  0.5\n"
     ]
    }
   ],
   "source": [
    "X = DF_Raw_New.loc[:, DF_Raw_New.columns != 'stroke']\n",
    "y = DF_Raw_New.loc[:, DF_Raw_New.columns == 'stroke']\n",
    "\n",
    "from imblearn.over_sampling import SMOTE\n",
    "\n",
    "os = SMOTE(random_state=200)\n",
    "\n",
    "X_train, X_test, y_train, y_test = train_test_split(X, y, test_size=0.25, random_state=0)\n",
    "\n",
    "columns = X_train.columns\n",
    "\n",
    "os_data_X, os_data_y = os.fit_resample(X_train, y_train)\n",
    "\n",
    "os_data_X = pd.DataFrame(data= os_data_X, columns=columns )\n",
    "\n",
    "os_data_y= pd.DataFrame(data=os_data_y,columns=['stroke'])\n",
    "\n",
    "# we can Check the numbers of our data\n",
    "print(\"length of oversampled data is \",len(os_data_X))\n",
    "print(\"Number of no strokes in oversampled data\",len(os_data_y[os_data_y['stroke']==0]))\n",
    "print(\"Number of strokes\",len(os_data_y[os_data_y['stroke']==1]))\n",
    "print(\"Proportion of no strokes data in oversampled data is \",len(os_data_y[os_data_y['stroke']==0])/len(os_data_X))\n",
    "print(\"Proportion of strokes data in oversampled data is \",len(os_data_y[os_data_y['stroke']==1])/len(os_data_X))"
   ]
  },
  {
   "cell_type": "code",
   "execution_count": 71,
   "metadata": {},
   "outputs": [
    {
     "name": "stdout",
     "output_type": "stream",
     "text": [
      "Optimization terminated successfully.\n",
      "         Current function value: 0.340716\n",
      "         Iterations 7\n",
      "                                Results: Logit\n",
      "===============================================================================\n",
      "Model:                   Logit                 Pseudo R-squared:      0.508    \n",
      "Dependent Variable:      stroke                AIC:                   4994.3652\n",
      "Date:                    2021-06-14 15:41      BIC:                   5077.1028\n",
      "No. Observations:        7294                  Log-Likelihood:        -2485.2  \n",
      "Df Model:                11                    LL-Null:               -5055.8  \n",
      "Df Residuals:            7282                  LLR p-value:           0.0000   \n",
      "Converged:               1.0000                Scale:                 1.0000   \n",
      "No. Iterations:          7.0000                                                \n",
      "-------------------------------------------------------------------------------\n",
      "                                Coef.  Std.Err.    z     P>|z|   [0.025  0.975]\n",
      "-------------------------------------------------------------------------------\n",
      "age                             0.0944   0.0025  37.3691 0.0000  0.0894  0.0993\n",
      "hypertension                   -0.5993   0.1325  -4.5222 0.0000 -0.8590 -0.3395\n",
      "avg_glucose_level               0.0017   0.0007   2.4352 0.0149  0.0003  0.0031\n",
      "bmi                            -0.0659   0.0044 -14.8016 0.0000 -0.0746 -0.0571\n",
      "Gender_Male                    -0.9227   0.0760 -12.1359 0.0000 -1.0717 -0.7737\n",
      "Residence_Urban                -1.0241   0.0729 -14.0529 0.0000 -1.1669 -0.8813\n",
      "Ever Married_Yes               -0.6838   0.1012  -6.7587 0.0000 -0.8821 -0.4855\n",
      "Smoking Status_formerly smoked -1.9152   0.1049 -18.2558 0.0000 -2.1208 -1.7095\n",
      "Smoking Status_never smoked    -2.5084   0.0952 -26.3391 0.0000 -2.6951 -2.3218\n",
      "Smoking Status_smokes          -2.4579   0.1353 -18.1723 0.0000 -2.7230 -2.1928\n",
      "Work Type_Private              -1.3003   0.0839 -15.4936 0.0000 -1.4648 -1.1358\n",
      "Work Type_Self-employed        -2.6552   0.1311 -20.2567 0.0000 -2.9121 -2.3983\n",
      "===============================================================================\n",
      "\n"
     ]
    }
   ],
   "source": [
    "X = os_data_X.loc[:, os_data_X.columns != 'stroke']\n",
    "y = os_data_y.loc[:, os_data_y.columns == 'stroke']\n",
    "import statsmodels.api as sm\n",
    "logit_model=sm.Logit(y,X)\n",
    "result=logit_model.fit()\n",
    "print(result.summary2())"
   ]
  },
  {
   "cell_type": "markdown",
   "metadata": {},
   "source": [
    "Now, all of our P Values are below .05.\n",
    "\n",
    "Observations: 1) Our R squared is now .508, roughly 50.8% of our data fits the model."
   ]
  },
  {
   "cell_type": "markdown",
   "metadata": {},
   "source": [
    "Now, all of our P Values are below .05."
   ]
  },
  {
   "cell_type": "code",
   "execution_count": 74,
   "metadata": {},
   "outputs": [],
   "source": [
    "DF_Raw_New.to_csv('DF_Raw_New_Cleansed.csv')"
   ]
  }
 ],
 "metadata": {
  "kernelspec": {
   "display_name": "Python 3",
   "language": "python",
   "name": "python3"
  },
  "language_info": {
   "codemirror_mode": {
    "name": "ipython",
    "version": 3
   },
   "file_extension": ".py",
   "mimetype": "text/x-python",
   "name": "python",
   "nbconvert_exporter": "python",
   "pygments_lexer": "ipython3",
   "version": "3.8.5"
  }
 },
 "nbformat": 4,
 "nbformat_minor": 4
}
